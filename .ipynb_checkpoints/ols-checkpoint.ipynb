{
 "cells": [
  {
   "cell_type": "code",
   "execution_count": 1,
   "metadata": {},
   "outputs": [],
   "source": [
    "%matplotlib inline"
   ]
  },
  {
   "cell_type": "code",
   "execution_count": 96,
   "metadata": {},
   "outputs": [],
   "source": [
    "from __future__ import print_function\n",
    "import numpy as np\n",
    "import statsmodels.api as sm\n",
    "import matplotlib.pyplot as plt\n",
    "from statsmodels.sandbox.regression.predstd import wls_prediction_std\n",
    "\n",
    "np.random.seed(9876789)"
   ]
  },
  {
   "cell_type": "code",
   "execution_count": 102,
   "metadata": {},
   "outputs": [],
   "source": [
    "#做一些假資料\n",
    "\n",
    "nsample=100\n",
    "x=np.linspace(0,10,100)\n",
    "X=np.column_stack((x,x**2))\n",
    "beta=np.array([1,0.1,10])\n",
    "e=np.random.normal(size=nsample)"
   ]
  },
  {
   "cell_type": "code",
   "execution_count": 103,
   "metadata": {},
   "outputs": [
    {
     "name": "stdout",
     "output_type": "stream",
     "text": [
      "beta shape: (3,)\n",
      "X shape: (100, 2)\n"
     ]
    }
   ],
   "source": [
    "print(\"beta shape:\",beta.shape)\n",
    "print(\"X shape:\",X.shape)"
   ]
  },
  {
   "cell_type": "code",
   "execution_count": 104,
   "metadata": {},
   "outputs": [],
   "source": [
    "#做截距\n",
    "\n",
    "#array([1.        , 0.1010101 , 0.01020304])\n",
    "X=sm.add_constant(X)\n",
    "\n",
    "#內積\n",
    "y=np.dot(X,beta)+e"
   ]
  },
  {
   "cell_type": "code",
   "execution_count": 105,
   "metadata": {},
   "outputs": [
    {
     "name": "stdout",
     "output_type": "stream",
     "text": [
      "y shape: (100,)\n",
      "y[0] 0.978669345098164\n"
     ]
    }
   ],
   "source": [
    "print('y shape:',y.shape)\n",
    "print('y[0]',y[0])"
   ]
  },
  {
   "cell_type": "code",
   "execution_count": 106,
   "metadata": {},
   "outputs": [
    {
     "name": "stdout",
     "output_type": "stream",
     "text": [
      "                            OLS Regression Results                            \n",
      "==============================================================================\n",
      "Dep. Variable:                      y   R-squared:                       1.000\n",
      "Model:                            OLS   Adj. R-squared:                  1.000\n",
      "Method:                 Least Squares   F-statistic:                 5.083e+06\n",
      "Date:                Thu, 06 Jun 2019   Prob (F-statistic):          3.25e-244\n",
      "Time:                        10:50:27   Log-Likelihood:                -134.79\n",
      "No. Observations:                 100   AIC:                             275.6\n",
      "Df Residuals:                      97   BIC:                             283.4\n",
      "Df Model:                           2                                         \n",
      "Covariance Type:            nonrobust                                         \n",
      "==============================================================================\n",
      "                 coef    std err          t      P>|t|      [0.025      0.975]\n",
      "------------------------------------------------------------------------------\n",
      "const          1.1876      0.278      4.270      0.000       0.636       1.740\n",
      "x1             0.0675      0.129      0.525      0.601      -0.188       0.323\n",
      "x2            10.0009      0.012    803.987      0.000       9.976      10.026\n",
      "==============================================================================\n",
      "Omnibus:                        0.629   Durbin-Watson:                   2.451\n",
      "Prob(Omnibus):                  0.730   Jarque-Bera (JB):                0.766\n",
      "Skew:                          -0.151   Prob(JB):                        0.682\n",
      "Kurtosis:                       2.696   Cond. No.                         144.\n",
      "==============================================================================\n",
      "\n",
      "Warnings:\n",
      "[1] Standard Errors assume that the covariance matrix of the errors is correctly specified.\n"
     ]
    }
   ],
   "source": [
    "#擬合\n",
    "model1=sm.OLS(y,X)\n",
    "res=model1.fit()\n",
    "print(res.summary())"
   ]
  },
  {
   "cell_type": "code",
   "execution_count": 109,
   "metadata": {},
   "outputs": [
    {
     "data": {
      "image/png": "[encoded data removed]",
      "text/plain": [
       "<Figure size 576x432 with 1 Axes>"
      ]
     },
     "metadata": {
      "needs_background": "light"
     },
     "output_type": "display_data"
    }
   ],
   "source": [
    "fig, ax = plt.subplots(figsize=(8,6))\n",
    "\n",
    "ax.plot(x, y, 'o', label=\"data\")\n",
    "ax.plot(x, res.fittedvalues, 'r--.', label=\"OLS\")\n",
    "ax.plot(x, iv_u, 'r--')\n",
    "ax.plot(x, iv_l, 'r--')\n",
    "ax.legend(loc='best');"
   ]
  },
  {
   "cell_type": "code",
   "execution_count": 14,
   "metadata": {},
   "outputs": [
    {
     "name": "stdout",
     "output_type": "stream",
     "text": [
      "Parameters: [ 1.34233516 -0.04024948 10.01025357]\n",
      "R2: 0.9999879365025871\n"
     ]
    }
   ],
   "source": [
    "#方程是為: y=1.34233516-0.04024948x1+10.01025357x2\n",
    "#DW:一般來說2是OK的，同時也要搭配看p-value，最好<0.05　\n",
    "#JB統計量用來檢驗序列觀測值是否服從常態分布，一般來說，JB值越大的情況下，自變數則越不是服從常態分布\n",
    "#偏態skew用來描述分配狀態是偏離平均數的程度\n",
    "#峰度(Kurtosis)用來描述分配狀態與常態分配來比較是較為高峻或平坦\n",
    "\n",
    "#偏態值 > 0，為正偏態，分配集中在平均數以下，低分群的個體較多 (右偏態)\n",
    "#偏態值 = 0，為平均數左右對稱的分配，平均數上下的個體數相等 (常態)\n",
    "#偏態值 < 0，為負偏態，分配集中在平均數以上，高分群的個體較多 (左偏態)\n",
    "#峰度值 > 0，為高狹峰，較常態分配來得高瘦 (資料集中於期望值)\n",
    "#峰度值 = 0，為常態峰\n",
    "#峰度值 < 0，為低闊峰，較常態分配來得低寬 (資料分布較廣)\n",
    "\n",
    "print('Parameters:', result.params)\n",
    "print('R2:',result.rsquared)"
   ]
  },
  {
   "cell_type": "code",
   "execution_count": 115,
   "metadata": {},
   "outputs": [],
   "source": [
    "#做一些假資料\n",
    "#x與y之間的關係是非線性的\n",
    "\n",
    "nsample=50\n",
    "sig=0.5\n",
    "x=np.linspace(0,20,nsample)\n",
    "X = np.column_stack((x, np.sin(x), (x-5)**2, np.ones(nsample)))\n",
    "beta=[0.5,0.5,-0.02,5]\n",
    "\n",
    "#y_true與X具有線性關係\n",
    "y_true=np.dot(X,beta)\n",
    "\n",
    "#y與X為非線性關係\n",
    "y=y_true+sig*np.random.normal(size=nsample)"
   ]
  },
  {
   "cell_type": "code",
   "execution_count": 116,
   "metadata": {},
   "outputs": [
    {
     "name": "stdout",
     "output_type": "stream",
     "text": [
      "X shape: (50, 4)\n",
      "y shape: (50,)\n",
      "X[1]: [ 0.40816327  0.39692415 21.0849646   1.        ]\n",
      "y_true: 4.98084441515384\n",
      "y[1]: 5.063639483112017\n"
     ]
    }
   ],
   "source": [
    "print('X shape:',X.shape)\n",
    "print('y shape:',y.shape)\n",
    "print('X[1]:',X[1])\n",
    "print('y_true:',y_true[1])\n",
    "print('y[1]:',y[1])"
   ]
  },
  {
   "cell_type": "code",
   "execution_count": 117,
   "metadata": {},
   "outputs": [
    {
     "name": "stdout",
     "output_type": "stream",
     "text": [
      "                            OLS Regression Results                            \n",
      "==============================================================================\n",
      "Dep. Variable:                      y   R-squared:                       0.939\n",
      "Model:                            OLS   Adj. R-squared:                  0.935\n",
      "Method:                 Least Squares   F-statistic:                     235.8\n",
      "Date:                Thu, 06 Jun 2019   Prob (F-statistic):           6.29e-28\n",
      "Time:                        10:57:02   Log-Likelihood:                -33.293\n",
      "No. Observations:                  50   AIC:                             74.59\n",
      "Df Residuals:                      46   BIC:                             82.23\n",
      "Df Model:                           3                                         \n",
      "Covariance Type:            nonrobust                                         \n",
      "==============================================================================\n",
      "                 coef    std err          t      P>|t|      [0.025      0.975]\n",
      "------------------------------------------------------------------------------\n",
      "x1             0.5204      0.026     20.163      0.000       0.468       0.572\n",
      "x2             0.4495      0.101      4.431      0.000       0.245       0.654\n",
      "x3            -0.0224      0.002     -9.904      0.000      -0.027      -0.018\n",
      "const          4.8871      0.167     29.204      0.000       4.550       5.224\n",
      "==============================================================================\n",
      "Omnibus:                        0.859   Durbin-Watson:                   1.945\n",
      "Prob(Omnibus):                  0.651   Jarque-Bera (JB):                0.575\n",
      "Skew:                           0.263   Prob(JB):                        0.750\n",
      "Kurtosis:                       2.987   Cond. No.                         221.\n",
      "==============================================================================\n",
      "\n",
      "Warnings:\n",
      "[1] Standard Errors assume that the covariance matrix of the errors is correctly specified.\n"
     ]
    }
   ],
   "source": [
    "res=sm.OLS(y,X).fit()\n",
    "print(res.summary())"
   ]
  },
  {
   "cell_type": "code",
   "execution_count": 118,
   "metadata": {},
   "outputs": [
    {
     "name": "stdout",
     "output_type": "stream",
     "text": [
      "Parameters:  [ 0.52038144  0.44954337 -0.02244153  4.88705829]\n",
      "Standard errors:  [0.02580815 0.10145486 0.00226597 0.16734101]\n",
      "Predicted values:  [ 4.32602007  4.80471466  5.24661555  5.62722302  5.93087918  6.15334051\n",
      "  6.30247503  6.39696965  6.46325996  6.53118691  6.62909402  6.77917068\n",
      "  6.99380643  7.27355542  7.60704537  7.97284601  8.34298997  8.6875678\n",
      "  8.97964196  9.19967261  9.33872793  9.39995161  9.39804635  9.35685823\n",
      "  9.30545888  9.27336909  9.28570864  9.35906916  9.49878823  9.69807235\n",
      "  9.93911316 10.19601327 10.43904115 10.63951592 10.77451952 10.83066214\n",
      " 10.80628205 10.71171869 10.56761389 10.40152048 10.24337544 10.12058134\n",
      " 10.05350419 10.05212733 10.11441123 10.22662854 10.36561951 10.502597\n",
      " 10.6078762  10.6557517 ]\n"
     ]
    }
   ],
   "source": [
    "print('Parameters: ', res.params)\n",
    "print('Standard errors: ', res.bse)\n",
    "print('Predicted values: ', res.predict())"
   ]
  },
  {
   "cell_type": "code",
   "execution_count": 114,
   "metadata": {},
   "outputs": [
    {
     "data": {
      "image/png": "[encoded data removed]",
      "text/plain": [
       "<Figure size 576x432 with 1 Axes>"
      ]
     },
     "metadata": {
      "needs_background": "light"
     },
     "output_type": "display_data"
    }
   ],
   "source": [
    "#wls_prediction_std會自動計算res的信賴區間\n",
    "prstd, iv_l, iv_u = wls_prediction_std(res)\n",
    "\n",
    "fig, ax = plt.subplots(figsize=(8,6))\n",
    "\n",
    "ax.plot(x, y, 'o', label=\"data\")\n",
    "ax.plot(x, y_true, 'b-', label=\"True\")\n",
    "ax.plot(x, res.fittedvalues, 'r--.', label=\"OLS\")\n",
    "ax.plot(x, iv_u, 'r--')\n",
    "ax.plot(x, iv_l, 'r--')\n",
    "ax.legend(loc='best');"
   ]
  },
  {
   "cell_type": "code",
   "execution_count": 142,
   "metadata": {},
   "outputs": [
    {
     "name": "stdout",
     "output_type": "stream",
     "text": [
      "X[0]: [0. 0. 0. 1.]\n",
      "X[1]: [0.40816327 0.         0.         1.        ]\n",
      "X的大小: (50, 4)\n"
     ]
    }
   ],
   "source": [
    "#dummy variable\n",
    "\n",
    "nsample=50\n",
    "\n",
    "#產生50個0的資料\n",
    "groups=np.zeros(nsample,int)\n",
    "\n",
    "#第20~40為1\n",
    "groups[20:40]=1\n",
    "\n",
    "#40之後為2\n",
    "groups[40:]=2\n",
    "\n",
    "dummy=sm.categorical(groups,drop=True)\n",
    "x=np.linspace(0,20,nsample)\n",
    "X=np.column_stack((x,dummy[:,1:]))\n",
    "\n",
    "#讓constant放在最後面\n",
    "X=sm.add_constant(X,prepend=False)\n",
    "\n",
    "print(\"X[0]:\",X[0])\n",
    "print(\"X[1]:\",X[1])\n",
    "print(\"X的大小:\",X.shape)\n",
    "\n",
    "beta=[1.,3,-3,10]\n",
    "y_true=np.dot(X,beta)\n",
    "e=np.random.normal(size=nsample)\n",
    "y=y_true+e"
   ]
  },
  {
   "cell_type": "code",
   "execution_count": 145,
   "metadata": {},
   "outputs": [
    {
     "name": "stdout",
     "output_type": "stream",
     "text": [
      "groups的樣子: [0 0 0 0 0 0 0 0 0 0 0 0 0 0 0 0 0 0 0 0 1 1 1 1 1 1 1 1 1 1 1 1 1 1 1 1 1\n",
      " 1 1 1 2 2 2 2 2 2 2 2 2 2]\n",
      "前20個dummy的樣子: [[1. 0. 0.]\n",
      " [1. 0. 0.]\n",
      " [1. 0. 0.]\n",
      " [1. 0. 0.]\n",
      " [1. 0. 0.]\n",
      " [1. 0. 0.]\n",
      " [1. 0. 0.]\n",
      " [1. 0. 0.]\n",
      " [1. 0. 0.]\n",
      " [1. 0. 0.]\n",
      " [1. 0. 0.]\n",
      " [1. 0. 0.]\n",
      " [1. 0. 0.]\n",
      " [1. 0. 0.]\n",
      " [1. 0. 0.]\n",
      " [1. 0. 0.]\n",
      " [1. 0. 0.]\n",
      " [1. 0. 0.]\n",
      " [1. 0. 0.]\n",
      " [1. 0. 0.]\n",
      " [0. 1. 0.]]\n",
      "前5個dummy的樣子，由第一個值開始看 [[0. 0.]\n",
      " [0. 0.]\n",
      " [0. 0.]\n",
      " [0. 0.]\n",
      " [0. 0.]]\n"
     ]
    }
   ],
   "source": [
    "print(\"groups的樣子:\",groups)\n",
    "print(\"前20個dummy的樣子:\",dummy[0:21])\n",
    "print(\"前5個dummy的樣子，由第一個值開始看\",dummy[:5,1:])"
   ]
  },
  {
   "cell_type": "code",
   "execution_count": 146,
   "metadata": {},
   "outputs": [
    {
     "name": "stdout",
     "output_type": "stream",
     "text": [
      "                            OLS Regression Results                            \n",
      "==============================================================================\n",
      "Dep. Variable:                      y   R-squared:                       0.973\n",
      "Model:                            OLS   Adj. R-squared:                  0.971\n",
      "Method:                 Least Squares   F-statistic:                     544.9\n",
      "Date:                Thu, 06 Jun 2019   Prob (F-statistic):           6.19e-36\n",
      "Time:                        11:14:37   Log-Likelihood:                -71.166\n",
      "No. Observations:                  50   AIC:                             150.3\n",
      "Df Residuals:                      46   BIC:                             158.0\n",
      "Df Model:                           3                                         \n",
      "Covariance Type:            nonrobust                                         \n",
      "==============================================================================\n",
      "                 coef    std err          t      P>|t|      [0.025      0.975]\n",
      "------------------------------------------------------------------------------\n",
      "x1             1.0999      0.068     16.112      0.000       0.962       1.237\n",
      "x2             2.0957      0.648      3.233      0.002       0.791       3.400\n",
      "x3            -4.2443      1.056     -4.019      0.000      -6.370      -2.118\n",
      "const          9.8408      0.353     27.847      0.000       9.129      10.552\n",
      "==============================================================================\n",
      "Omnibus:                        1.128   Durbin-Watson:                   2.144\n",
      "Prob(Omnibus):                  0.569   Jarque-Bera (JB):                1.150\n",
      "Skew:                          -0.325   Prob(JB):                        0.563\n",
      "Kurtosis:                       2.642   Cond. No.                         96.3\n",
      "==============================================================================\n",
      "\n",
      "Warnings:\n",
      "[1] Standard Errors assume that the covariance matrix of the errors is correctly specified.\n"
     ]
    }
   ],
   "source": [
    "#fit\n",
    "\n",
    "res2=sm.OLS(y,X).fit()\n",
    "print(res2.summary())"
   ]
  },
  {
   "cell_type": "code",
   "execution_count": 147,
   "metadata": {},
   "outputs": [
    {
     "data": {
      "image/png": "[encoded data removed]",
      "text/plain": [
       "<Figure size 576x432 with 1 Axes>"
      ]
     },
     "metadata": {
      "needs_background": "light"
     },
     "output_type": "display_data"
    }
   ],
   "source": [
    "prstd, iv_l, iv_u = wls_prediction_std(res2)\n",
    "\n",
    "fig, ax = plt.subplots(figsize=(8,6))\n",
    "\n",
    "ax.plot(x, y, 'o', label=\"Data\")\n",
    "ax.plot(x, y_true, 'b-', label=\"True\")\n",
    "ax.plot(x, res2.fittedvalues, 'r--.', label=\"Predicted\")\n",
    "ax.plot(x, iv_u, 'r--')\n",
    "ax.plot(x, iv_l, 'r--')\n",
    "legend = ax.legend(loc=\"best\")"
   ]
  },
  {
   "cell_type": "code",
   "execution_count": 27,
   "metadata": {},
   "outputs": [
    {
     "name": "stdout",
     "output_type": "stream",
     "text": [
      "[[0 1 0 0]\n",
      " [0 0 1 0]]\n",
      "<F test: F=array([[145.49268198]]), p=1.2834419617292098e-20, df_denom=46, df_num=2>\n"
     ]
    }
   ],
   "source": [
    "#假設檢定\n",
    "#F檢定(聯合假設檢驗: joint hypotheses test)，變異數比率檢驗\n",
    "#是一種null hypothesis假設，統計值是否服從F分配，通常用來檢驗模型參數，以判斷模型中的參數是否適合用來估計母體\n",
    "\n",
    "#我們想檢定這些dummy variable之模型參數(coefficients)是否服從F分配\n",
    "#做法就是將R×β=0\n",
    "R = [[0, 1, 0, 0], [0, 0, 1, 0]]\n",
    "print(np.array(R))\n",
    "print(res2.f_test(R))"
   ]
  },
  {
   "cell_type": "code",
   "execution_count": 28,
   "metadata": {},
   "outputs": [
    {
     "name": "stdout",
     "output_type": "stream",
     "text": [
      "<F test: F=array([[145.49268198]]), p=1.2834419617291678e-20, df_denom=46, df_num=2>\n"
     ]
    }
   ],
   "source": [
    "#這樣寫也可以\n",
    "#F檢定告訴我們拒絕h0，接受h1，表示服從F分配，\n",
    "#p=1.2834419617291678e-20 < 0.05，\n",
    "print(res2.f_test(\"x2 = x3 = 0\"))"
   ]
  },
  {
   "cell_type": "code",
   "execution_count": 156,
   "metadata": {},
   "outputs": [],
   "source": [
    "#原本是beta=[1.,3,-3,10]\n",
    "#我們如果調整beta讓它小一點\n",
    "beta = [1., 0.3, -0.0, 10]\n",
    "\n",
    "y_true = np.dot(X, beta)\n",
    "y = y_true + np.random.normal(size=nsample)\n",
    "res3 = sm.OLS(y, X).fit()"
   ]
  },
  {
   "cell_type": "code",
   "execution_count": 30,
   "metadata": {},
   "outputs": [
    {
     "name": "stdout",
     "output_type": "stream",
     "text": [
      "<F test: F=array([[1.22491119]]), p=0.30318644106320874, df_denom=46, df_num=2>\n"
     ]
    }
   ],
   "source": [
    "#我們發現p>0.05，於是無法拒絕h0\n",
    "#這表示判斷模型中的參數不適合用來估計母體 \n",
    "print(res3.f_test(R))"
   ]
  },
  {
   "cell_type": "code",
   "execution_count": 31,
   "metadata": {},
   "outputs": [
    {
     "name": "stdout",
     "output_type": "stream",
     "text": [
      "<F test: F=array([[1.22491119]]), p=0.30318644106320874, df_denom=46, df_num=2>\n"
     ]
    }
   ],
   "source": [
    "print(res3.f_test(\"x2 = x3 = 0\"))"
   ]
  },
  {
   "cell_type": "code",
   "execution_count": 157,
   "metadata": {},
   "outputs": [
    {
     "data": {
      "image/png": "[encoded data removed]",
      "text/plain": [
       "<Figure size 576x432 with 1 Axes>"
      ]
     },
     "metadata": {
      "needs_background": "light"
     },
     "output_type": "display_data"
    }
   ],
   "source": [
    "prstd, iv_l, iv_u = wls_prediction_std(res3)\n",
    "\n",
    "fig, ax = plt.subplots(figsize=(8,6))\n",
    "\n",
    "ax.plot(x, y, 'o', label=\"Data\")\n",
    "ax.plot(x, y_true, 'b-', label=\"True\")\n",
    "ax.plot(x, res3.fittedvalues, 'r--.', label=\"Predicted\")\n",
    "ax.plot(x, iv_u, 'r--')\n",
    "ax.plot(x, iv_l, 'r--')\n",
    "legend = ax.legend(loc=\"best\")"
   ]
  },
  {
   "cell_type": "code",
   "execution_count": 174,
   "metadata": {},
   "outputs": [
    {
     "name": "stderr",
     "output_type": "stream",
     "text": [
      "C:\\Users\\gpu\\Anaconda3\\envs\\keras\\lib\\site-packages\\numpy\\core\\fromnumeric.py:2389: FutureWarning: Method .ptp is deprecated and will be removed in a future version. Use numpy.ptp instead.\n",
      "  return ptp(axis=axis, out=out, **kwargs)\n"
     ]
    }
   ],
   "source": [
    "#共線性(Multicollinearity)\n",
    "#變數間的共線性問題，不處理的話，會影響模型準確度的穩定性\n",
    "\n",
    "#longley資料集有明顯的共線性問題\n",
    "from statsmodels.datasets.longley import load_pandas\n",
    "\n",
    "y=load_pandas().endog\n",
    "X=load_pandas().exog\n",
    "X=sm.add_constant(X)"
   ]
  },
  {
   "cell_type": "code",
   "execution_count": 177,
   "metadata": {},
   "outputs": [
    {
     "name": "stdout",
     "output_type": "stream",
     "text": [
      "y的大小 (16,)\n",
      "X的大小 (16, 7)\n",
      "y[1] 61122.0\n",
      "X前5筆資料    const  GNPDEFL       GNP   UNEMP   ARMED       POP    YEAR\n",
      "0    1.0     83.0  234289.0  2356.0  1590.0  107608.0  1947.0\n",
      "1    1.0     88.5  259426.0  2325.0  1456.0  108632.0  1948.0\n",
      "2    1.0     88.2  258054.0  3682.0  1616.0  109773.0  1949.0\n",
      "3    1.0     89.5  284599.0  3351.0  1650.0  110929.0  1950.0\n",
      "4    1.0     96.2  328975.0  2099.0  3099.0  112075.0  1951.0\n"
     ]
    }
   ],
   "source": [
    "print('y的大小',y.shape)\n",
    "print('X的大小',X.shape)\n",
    "print('y[1]',y[1])\n",
    "print('X前5筆資料',X.head(5))"
   ]
  },
  {
   "cell_type": "code",
   "execution_count": 178,
   "metadata": {},
   "outputs": [
    {
     "name": "stdout",
     "output_type": "stream",
     "text": [
      "                            OLS Regression Results                            \n",
      "==============================================================================\n",
      "Dep. Variable:                 TOTEMP   R-squared:                       0.995\n",
      "Model:                            OLS   Adj. R-squared:                  0.992\n",
      "Method:                 Least Squares   F-statistic:                     330.3\n",
      "Date:                Thu, 06 Jun 2019   Prob (F-statistic):           4.98e-10\n",
      "Time:                        13:06:21   Log-Likelihood:                -109.62\n",
      "No. Observations:                  16   AIC:                             233.2\n",
      "Df Residuals:                       9   BIC:                             238.6\n",
      "Df Model:                           6                                         \n",
      "Covariance Type:            nonrobust                                         \n",
      "==============================================================================\n",
      "                 coef    std err          t      P>|t|      [0.025      0.975]\n",
      "------------------------------------------------------------------------------\n",
      "const      -3.482e+06    8.9e+05     -3.911      0.004    -5.5e+06   -1.47e+06\n",
      "GNPDEFL       15.0619     84.915      0.177      0.863    -177.029     207.153\n",
      "GNP           -0.0358      0.033     -1.070      0.313      -0.112       0.040\n",
      "UNEMP         -2.0202      0.488     -4.136      0.003      -3.125      -0.915\n",
      "ARMED         -1.0332      0.214     -4.822      0.001      -1.518      -0.549\n",
      "POP           -0.0511      0.226     -0.226      0.826      -0.563       0.460\n",
      "YEAR        1829.1515    455.478      4.016      0.003     798.788    2859.515\n",
      "==============================================================================\n",
      "Omnibus:                        0.749   Durbin-Watson:                   2.559\n",
      "Prob(Omnibus):                  0.688   Jarque-Bera (JB):                0.684\n",
      "Skew:                           0.420   Prob(JB):                        0.710\n",
      "Kurtosis:                       2.434   Cond. No.                     4.86e+09\n",
      "==============================================================================\n",
      "\n",
      "Warnings:\n",
      "[1] Standard Errors assume that the covariance matrix of the errors is correctly specified.\n",
      "[2] The condition number is large, 4.86e+09. This might indicate that there are\n",
      "strong multicollinearity or other numerical problems.\n"
     ]
    },
    {
     "name": "stderr",
     "output_type": "stream",
     "text": [
      "C:\\Users\\gpu\\Anaconda3\\envs\\keras\\lib\\site-packages\\scipy\\stats\\stats.py:1416: UserWarning: kurtosistest only valid for n>=20 ... continuing anyway, n=16\n",
      "  \"anyway, n=%i\" % int(n))\n"
     ]
    }
   ],
   "source": [
    "#fit\n",
    "ols_model=sm.OLS(y,X)\n",
    "ols_results=ols_model.fit()\n",
    "print(ols_results.summary())"
   ]
  },
  {
   "cell_type": "code",
   "execution_count": 196,
   "metadata": {},
   "outputs": [],
   "source": [
    "from statsmodels.stats.outliers_influence import variance_inflation_factor\n",
    "import pandas as pd\n",
    "vif = pd.DataFrame()\n",
    "vif[\"VIF Factor\"] = [variance_inflation_factor(X.values, i) for i in range(X.shape[1])]\n",
    "vif[\"features\"] = X.columns"
   ]
  },
  {
   "cell_type": "code",
   "execution_count": 197,
   "metadata": {},
   "outputs": [
    {
     "data": {
      "text/html": [
       "<div>\n",
       "<style scoped>\n",
       "    .dataframe tbody tr th:only-of-type {\n",
       "        vertical-align: middle;\n",
       "    }\n",
       "\n",
       "    .dataframe tbody tr th {\n",
       "        vertical-align: top;\n",
       "    }\n",
       "\n",
       "    .dataframe thead th {\n",
       "        text-align: right;\n",
       "    }\n",
       "</style>\n",
       "<table border=\"1\" class=\"dataframe\">\n",
       "  <thead>\n",
       "    <tr style=\"text-align: right;\">\n",
       "      <th></th>\n",
       "      <th>VIF Factor</th>\n",
       "      <th>features</th>\n",
       "    </tr>\n",
       "  </thead>\n",
       "  <tbody>\n",
       "    <tr>\n",
       "      <th>0</th>\n",
       "      <td>136497961.9</td>\n",
       "      <td>const</td>\n",
       "    </tr>\n",
       "    <tr>\n",
       "      <th>1</th>\n",
       "      <td>135.5</td>\n",
       "      <td>GNPDEFL</td>\n",
       "    </tr>\n",
       "    <tr>\n",
       "      <th>2</th>\n",
       "      <td>1788.5</td>\n",
       "      <td>GNP</td>\n",
       "    </tr>\n",
       "    <tr>\n",
       "      <th>3</th>\n",
       "      <td>33.6</td>\n",
       "      <td>UNEMP</td>\n",
       "    </tr>\n",
       "    <tr>\n",
       "      <th>4</th>\n",
       "      <td>3.6</td>\n",
       "      <td>ARMED</td>\n",
       "    </tr>\n",
       "    <tr>\n",
       "      <th>5</th>\n",
       "      <td>399.2</td>\n",
       "      <td>POP</td>\n",
       "    </tr>\n",
       "    <tr>\n",
       "      <th>6</th>\n",
       "      <td>759.0</td>\n",
       "      <td>YEAR</td>\n",
       "    </tr>\n",
       "  </tbody>\n",
       "</table>\n",
       "</div>"
      ],
      "text/plain": [
       "    VIF Factor features\n",
       "0  136497961.9    const\n",
       "1        135.5  GNPDEFL\n",
       "2       1788.5      GNP\n",
       "3         33.6    UNEMP\n",
       "4          3.6    ARMED\n",
       "5        399.2      POP\n",
       "6        759.0     YEAR"
      ]
     },
     "execution_count": 197,
     "metadata": {},
     "output_type": "execute_result"
    }
   ],
   "source": [
    "#10 as the maximum level of VIF (Hair et al., 1995)\n",
    "#https://faculty.fuqua.duke.edu/~mela/bio/papers/Mela_Kopalle_2002.pdf\n",
    "#5 as the maximum level of VIF (Ringle et al., 2015)\n",
    "#https://www.researchgate.net/publication/264934704_A_New_Criterion_for_Assessing_Discriminant_Validity_in_Variance-based_Structural_Equation_Modeling\n",
    "\n",
    "vif.round(1)"
   ]
  },
  {
   "cell_type": "code",
   "execution_count": null,
   "metadata": {},
   "outputs": [],
   "source": []
  }
 ],
 "metadata": {
  "kernelspec": {
   "display_name": "Python 3",
   "language": "python",
   "name": "python3"
  },
  "language_info": {
   "codemirror_mode": {
    "name": "ipython",
    "version": 3
   },
   "file_extension": ".py",
   "mimetype": "text/x-python",
   "name": "python",
   "nbconvert_exporter": "python",
   "pygments_lexer": "ipython3",
   "version": "3.7.1"
  }
 },
 "nbformat": 4,
 "nbformat_minor": 2
}
